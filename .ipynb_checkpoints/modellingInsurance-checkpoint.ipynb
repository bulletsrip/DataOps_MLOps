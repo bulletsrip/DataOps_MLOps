{
 "cells": [
  {
   "cell_type": "code",
   "execution_count": 1,
   "metadata": {},
   "outputs": [],
   "source": [
    "#!python3\n",
    "\n",
    "import os\n",
    "import pickle\n",
    "import time\n",
    "\n",
    "import pandas as pd\n",
    "import numpy as np\n",
    "\n",
    "from sklearn.preprocessing import StandardScaler\n",
    "from sklearn.preprocessing import LabelEncoder\n",
    "from sklearn.preprocessing import OneHotEncoder\n",
    "from sklearn.neighbors import KNeighborsClassifier\n",
    "\n",
    "from InsurancePreparation import colPreparation\n",
    "\n",
    "import warnings\n",
    "warnings.filterwarnings('ignore')"
   ]
  },
  {
   "cell_type": "code",
   "execution_count": 2,
   "metadata": {},
   "outputs": [],
   "source": [
    "def prepOneHotEncoder(df, col, path):\n",
    "    filename = 'prep'+col+'.pkl'\n",
    "    labelOnetHotEncoder = OneHotEncoder()\n",
    "    dfOneHotEncoder = pd.DataFrame(labelOnetHotEncoder.fit_transform(df[[col]]).toarray(), \\\n",
    "                                   columns = [col+\"_\"+str(i+1) for i in range(len(df[col].unique()))])\n",
    "    \n",
    "    pickle.dump(labelOnetHotEncoder, open(path + filename, 'wb'))\n",
    "    df = pd.concat([df.drop(col, axis=1), dfOneHotEncoder], axis=1)\n",
    "    return df\n",
    "\n",
    "def prepLabelEncoder(df, col, path):\n",
    "    filename = 'prep'+col+'.pkl'\n",
    "    labelencoder = LabelEncoder()\n",
    "    dflabelencoder = pd.DataFrame(labelencoder.fit_transform(df[[col]]), \\\n",
    "                                  columns = [col])\n",
    "    \n",
    "    pickle.dump(labelencoder, open(path + filename, 'wb'))\n",
    "    df = pd.concat([df.drop(col, axis=1), dflabelencoder], axis=1)\n",
    "    return df\n",
    "\n",
    "def prepStandarScaler(df, col, path):\n",
    "    filename = 'prep'+col+'.pkl'\n",
    "    scallingStandarScaler = StandardScaler()\n",
    "    dfStandarScaler = pd.DataFrame(scallingStandarScaler.fit_transform(df[[col]]), \\\n",
    "                                   columns = [col])\n",
    "\n",
    "    pickle.dump(scallingStandarScaler, open(path + filename, 'wb'))\n",
    "    df = pd.concat([df.drop(col, axis=1), dfStandarScaler], axis=1)\n",
    "    return df"
   ]
  },
  {
   "cell_type": "code",
   "execution_count": 3,
   "metadata": {},
   "outputs": [],
   "source": [
    "pathPackages = os.getcwd()+\"\\\\\"+\"packages\"+\"\\\\\"\n",
    "pathData = os.getcwd()+\"\\\\\"+\"data\"+\"\\\\\""
   ]
  },
  {
   "cell_type": "code",
   "execution_count": 6,
   "metadata": {},
   "outputs": [
    {
     "data": {
      "text/html": [
       "<div>\n",
       "<style scoped>\n",
       "    .dataframe tbody tr th:only-of-type {\n",
       "        vertical-align: middle;\n",
       "    }\n",
       "\n",
       "    .dataframe tbody tr th {\n",
       "        vertical-align: top;\n",
       "    }\n",
       "\n",
       "    .dataframe thead th {\n",
       "        text-align: right;\n",
       "    }\n",
       "</style>\n",
       "<table border=\"1\" class=\"dataframe\">\n",
       "  <thead>\n",
       "    <tr style=\"text-align: right;\">\n",
       "      <th></th>\n",
       "      <th>Gender</th>\n",
       "      <th>Age</th>\n",
       "      <th>Driving_License</th>\n",
       "      <th>Region_Code</th>\n",
       "      <th>Previously_Insured</th>\n",
       "      <th>Vehicle_Age</th>\n",
       "      <th>Vehicle_Damage</th>\n",
       "      <th>Annual_Premium</th>\n",
       "      <th>Policy_Sales_Channel</th>\n",
       "      <th>Vintage</th>\n",
       "      <th>Response</th>\n",
       "    </tr>\n",
       "  </thead>\n",
       "  <tbody>\n",
       "    <tr>\n",
       "      <th>0</th>\n",
       "      <td>Male</td>\n",
       "      <td>44</td>\n",
       "      <td>1</td>\n",
       "      <td>28.0</td>\n",
       "      <td>0</td>\n",
       "      <td>&gt; 2 Years</td>\n",
       "      <td>Yes</td>\n",
       "      <td>40454.0</td>\n",
       "      <td>26.0</td>\n",
       "      <td>217</td>\n",
       "      <td>1</td>\n",
       "    </tr>\n",
       "  </tbody>\n",
       "</table>\n",
       "</div>"
      ],
      "text/plain": [
       "  Gender  Age  Driving_License  Region_Code  Previously_Insured Vehicle_Age  \\\n",
       "0   Male   44                1         28.0                   0   > 2 Years   \n",
       "\n",
       "  Vehicle_Damage  Annual_Premium  Policy_Sales_Channel  Vintage  Response  \n",
       "0            Yes         40454.0                  26.0      217         1  "
      ]
     },
     "execution_count": 6,
     "metadata": {},
     "output_type": "execute_result"
    }
   ],
   "source": [
    "data = pd.read_csv(pathData + 'train.csv')\n",
    "data = data.drop('id', axis=1)\n",
    "data.head(1)"
   ]
  },
  {
   "cell_type": "code",
   "execution_count": 5,
   "metadata": {},
   "outputs": [
    {
     "ename": "TypeError",
     "evalue": "'list' object is not callable",
     "output_type": "error",
     "traceback": [
      "\u001b[1;31m---------------------------------------------------------------------------\u001b[0m",
      "\u001b[1;31mTypeError\u001b[0m                                 Traceback (most recent call last)",
      "Input \u001b[1;32mIn [5]\u001b[0m, in \u001b[0;36m<cell line: 7>\u001b[1;34m()\u001b[0m\n\u001b[0;32m     11\u001b[0m         X \u001b[38;5;241m=\u001b[39m prepOneHotEncoder(X, col, pathPackages)\n\u001b[0;32m     12\u001b[0m     \u001b[38;5;28;01melif\u001b[39;00m col \u001b[38;5;129;01min\u001b[39;00m prepStandarScaler:\n\u001b[1;32m---> 13\u001b[0m         X \u001b[38;5;241m=\u001b[39m \u001b[43mprepStandarScaler\u001b[49m\u001b[43m(\u001b[49m\u001b[43mX\u001b[49m\u001b[43m,\u001b[49m\u001b[43m \u001b[49m\u001b[43mcol\u001b[49m\u001b[43m,\u001b[49m\u001b[43m \u001b[49m\u001b[43mpathPackages\u001b[49m\u001b[43m)\u001b[49m\n\u001b[0;32m     15\u001b[0m pickle\u001b[38;5;241m.\u001b[39mdump(X\u001b[38;5;241m.\u001b[39mcolumns\u001b[38;5;241m.\u001b[39mtolist(), \u001b[38;5;28mopen\u001b[39m(pathPackages \u001b[38;5;241m+\u001b[39m \u001b[38;5;124m'\u001b[39m\u001b[38;5;124mcolumnModelling.pkl\u001b[39m\u001b[38;5;124m'\u001b[39m,\u001b[38;5;124m'\u001b[39m\u001b[38;5;124mwb\u001b[39m\u001b[38;5;124m'\u001b[39m))\n\u001b[0;32m     16\u001b[0m X\u001b[38;5;241m.\u001b[39mhead(\u001b[38;5;241m1\u001b[39m)\n",
      "\u001b[1;31mTypeError\u001b[0m: 'list' object is not callable"
     ]
    }
   ],
   "source": [
    "X = data.drop('Response', axis=1)\n",
    "y = data['Response']\n",
    "\n",
    "pickle.dump(X.columns.tolist(), open(pathPackages + 'columnPreparation.pkl','wb'))\n",
    "colEncoder, colOneHotEncoder, colStandarScaler = colPreparation()\n",
    "\n",
    "for col in X.columns:\n",
    "    if col in colEncoder:\n",
    "        X = prepLabelEncoder(X, col, pathPackages)\n",
    "    elif col in colOneHotEncoder:\n",
    "        X = prepOneHotEncoder(X, col, pathPackages)\n",
    "    elif col in colStandarScaler:\n",
    "        X = prepStandarScaler(X, col, pathPackages)\n",
    "\n",
    "pickle.dump(X.columns.tolist(), open(pathPackages + 'columnModelling.pkl','wb'))\n",
    "X.head(1)"
   ]
  },
  {
   "cell_type": "code",
   "execution_count": null,
   "metadata": {},
   "outputs": [],
   "source": [
    "start = time.time()\n",
    "\n",
    "model = KNeighborsClassifier(n_neighbors=5)\n",
    "model.fit(X,y)\n",
    "\n",
    "stop = time.time()\n",
    "with open(pathPackages + 'model_InsuranceRecommendation.pkl','wb') as file:\n",
    "    pickle.dump(model, file)\n",
    "print(f\"{stop-start} seconds time training model.....\")"
   ]
  },
  {
   "cell_type": "code",
   "execution_count": null,
   "metadata": {},
   "outputs": [],
   "source": []
  }
 ],
 "metadata": {
  "kernelspec": {
   "display_name": "Python 3 (ipykernel)",
   "language": "python",
   "name": "python3"
  },
  "language_info": {
   "codemirror_mode": {
    "name": "ipython",
    "version": 3
   },
   "file_extension": ".py",
   "mimetype": "text/x-python",
   "name": "python",
   "nbconvert_exporter": "python",
   "pygments_lexer": "ipython3",
   "version": "3.9.12"
  }
 },
 "nbformat": 4,
 "nbformat_minor": 4
}
